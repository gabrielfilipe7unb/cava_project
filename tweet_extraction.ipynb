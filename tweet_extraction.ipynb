{
 "cells": [
  {
   "cell_type": "code",
   "execution_count": 1,
   "metadata": {},
   "outputs": [],
   "source": [
    "import json\n",
    "import pandas as pd"
   ]
  },
  {
   "cell_type": "code",
   "execution_count": 2,
   "metadata": {},
   "outputs": [],
   "source": [
    "def create_dataframe(file_path):\n",
    "    \n",
    "    tweets = []\n",
    "    users_id = []\n",
    "    users_location = []\n",
    "    users_followers_count = []\n",
    "    users_friends_count = []\n",
    "    users_verified = []\n",
    "    tweets_id = []\n",
    "    retweets_count = []\n",
    "    favorites_count = []\n",
    "    langs = []\n",
    "    tweets_full_text = []\n",
    "\n",
    "    with open(file_path, 'r') as json_file:\n",
    "        json_list = list(json_file)\n",
    "        for tweet in json_list:\n",
    "            data = json.loads(tweet)\n",
    "            tweets.append(data)\n",
    "            \n",
    "    for tweet in tweets:\n",
    "        users_id.append(tweet['user']['id'])\n",
    "        users_location.append(tweet['user']['location'])\n",
    "        users_followers_count.append(tweet['user']['followers_count'])\n",
    "        users_friends_count.append(tweet['user']['friends_count'])\n",
    "        users_verified.append(tweet['user']['verified'])\n",
    "        tweets_id.append(tweet['id'])\n",
    "        retweets_count.append(tweet['retweet_count'])\n",
    "        favorites_count.append(tweet['favorite_count'])\n",
    "        langs.append(tweet['lang'])\n",
    "        tweets_full_text.append(tweet['full_text'])\n",
    "        \n",
    "    df = pd.DataFrame({'users_id': users_id,\n",
    "                       'users_location': users_location,\n",
    "                       'users_followers_count': users_followers_count,\n",
    "                       'users_friends_count': users_friends_count,\n",
    "                       'users_verified': users_verified,\n",
    "                       'tweets_id': tweets_id,\n",
    "                       'retweets_count': retweets_count,\n",
    "                       'favorites_count': favorites_count,\n",
    "                       'langs': langs,\n",
    "                       'tweets_full_text': tweets_full_text})\n",
    "            \n",
    "    return df"
   ]
  },
  {
   "cell_type": "code",
   "execution_count": 3,
   "metadata": {},
   "outputs": [],
   "source": [
    "tweets_df1 = create_dataframe('data/nubank.tweets.jsonl')\n",
    "tweets_df2 = create_dataframe('data/nubank_hash.tweets.jsonl')"
   ]
  },
  {
   "cell_type": "code",
   "execution_count": 4,
   "metadata": {},
   "outputs": [],
   "source": [
    "tweets_df = pd.concat([tweets_df1, tweets_df2], ignore_index=True)"
   ]
  },
  {
   "cell_type": "markdown",
   "metadata": {},
   "source": [
    "#### Selecting only portuguese tweets"
   ]
  },
  {
   "cell_type": "code",
   "execution_count": 5,
   "metadata": {},
   "outputs": [],
   "source": [
    "tweets_df = tweets_df[tweets_df['langs'] == 'pt']"
   ]
  },
  {
   "cell_type": "markdown",
   "metadata": {},
   "source": [
    "#### Export dataframe to csv"
   ]
  },
  {
   "cell_type": "code",
   "execution_count": 6,
   "metadata": {},
   "outputs": [],
   "source": [
    "tweets_df.to_csv('data/tweets_df.csv', index=False)"
   ]
  }
 ],
 "metadata": {
  "kernelspec": {
   "display_name": "Python 3",
   "language": "python",
   "name": "python3"
  },
  "language_info": {
   "codemirror_mode": {
    "name": "ipython",
    "version": 3
   },
   "file_extension": ".py",
   "mimetype": "text/x-python",
   "name": "python",
   "nbconvert_exporter": "python",
   "pygments_lexer": "ipython3",
   "version": "3.8.3"
  }
 },
 "nbformat": 4,
 "nbformat_minor": 4
}
